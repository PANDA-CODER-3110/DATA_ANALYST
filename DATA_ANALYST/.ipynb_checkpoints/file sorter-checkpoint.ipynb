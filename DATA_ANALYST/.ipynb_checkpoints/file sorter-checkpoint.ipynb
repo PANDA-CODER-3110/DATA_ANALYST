{
 "cells": [
  {
   "cell_type": "markdown",
   "id": "3c8d1353",
   "metadata": {},
   "source": [
    "# Automatic File Sorter In File Explorer\n"
   ]
  },
  {
   "cell_type": "code",
   "execution_count": 1,
   "id": "004f2a6a",
   "metadata": {},
   "outputs": [],
   "source": [
    "import os , shutil"
   ]
  },
  {
   "cell_type": "code",
   "execution_count": 8,
   "id": "947393c3",
   "metadata": {},
   "outputs": [],
   "source": [
    "path = r\"C:/Users/mi/OneDrive/Desktop/project march/\""
   ]
  },
  {
   "cell_type": "code",
   "execution_count": 12,
   "id": "ae3f7cdb",
   "metadata": {},
   "outputs": [],
   "source": [
    "file_name = os.listdir(path)"
   ]
  },
  {
   "cell_type": "code",
   "execution_count": 15,
   "id": "8a23e8e5",
   "metadata": {},
   "outputs": [],
   "source": [
    "folder_names= ['csv files' ,'image files' ,'text files']\n",
    "\n",
    "for loop in range(0,3):\n",
    "    if not os.path.exists(path+folder_names[loop]):\n",
    "        print((path+folder_names[loop]))\n",
    "        os.makedirs(path+folder_names[loop])"
   ]
  },
  {
   "cell_type": "code",
   "execution_count": 20,
   "id": "70f98ed2",
   "metadata": {},
   "outputs": [],
   "source": [
    "for file in file_name:\n",
    "    if \".csv\" in file and not os.path.exists(path+\"csv files/\"+file):\n",
    "        shutil.move(path +file , path+\"csv files/\"+file)\n",
    "    elif \".png\" in file and not os.path.exists(path+\"image files/\"+file):\n",
    "        shutil.move(path +file , path+\"image files/\"+file)\n",
    "    elif  \".txt\" in file and not os.path.exists(path+\"text files/\"+file):\n",
    "        shutil.move(path +file , path+\"text files/\"+file)"
   ]
  },
  {
   "cell_type": "code",
   "execution_count": null,
   "id": "c843df1f",
   "metadata": {},
   "outputs": [],
   "source": []
  }
 ],
 "metadata": {
  "kernelspec": {
   "display_name": "Python 3 (ipykernel)",
   "language": "python",
   "name": "python3"
  },
  "language_info": {
   "codemirror_mode": {
    "name": "ipython",
    "version": 3
   },
   "file_extension": ".py",
   "mimetype": "text/x-python",
   "name": "python",
   "nbconvert_exporter": "python",
   "pygments_lexer": "ipython3",
   "version": "3.11.5"
  }
 },
 "nbformat": 4,
 "nbformat_minor": 5
}
